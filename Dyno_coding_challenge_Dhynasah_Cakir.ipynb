{
  "nbformat": 4,
  "nbformat_minor": 0,
  "metadata": {
    "colab": {
      "provenance": [],
      "mount_file_id": "18tUittU4vtm921S-xbpkB57vyN1XyzEQ",
      "authorship_tag": "ABX9TyMbYfJEi2S9BtVQmdGE0Rma",
      "include_colab_link": true
    },
    "kernelspec": {
      "name": "python3",
      "display_name": "Python 3"
    },
    "language_info": {
      "name": "python"
    }
  },
  "cells": [
    {
      "cell_type": "markdown",
      "metadata": {
        "id": "view-in-github",
        "colab_type": "text"
      },
      "source": [
        "<a href=\"https://colab.research.google.com/github/dhynasah/Least-squares-regression/blob/master/Dyno_coding_challenge_Dhynasah_Cakir.ipynb\" target=\"_parent\"><img src=\"https://colab.research.google.com/assets/colab-badge.svg\" alt=\"Open In Colab\"/></a>"
      ]
    },
    {
      "cell_type": "code",
      "source": [
        "! pip install fuzzywuzzy[speedup]\n",
        "! pip install python-Levenshtein"
      ],
      "metadata": {
        "id": "aNnfzU3HSl9S",
        "colab": {
          "base_uri": "https://localhost:8080/"
        },
        "outputId": "7d1174ba-4c80-448d-9c1a-9dd82f55004f"
      },
      "execution_count": null,
      "outputs": [
        {
          "output_type": "stream",
          "name": "stdout",
          "text": [
            "Looking in indexes: https://pypi.org/simple, https://us-python.pkg.dev/colab-wheels/public/simple/\n",
            "Collecting fuzzywuzzy[speedup]\n",
            "  Downloading fuzzywuzzy-0.18.0-py2.py3-none-any.whl (18 kB)\n",
            "Collecting python-levenshtein>=0.12\n",
            "  Downloading python_Levenshtein-0.20.8-py3-none-any.whl (9.4 kB)\n",
            "Collecting Levenshtein==0.20.8\n",
            "  Downloading Levenshtein-0.20.8-cp37-cp37m-manylinux_2_17_x86_64.manylinux2014_x86_64.whl (175 kB)\n",
            "\u001b[K     |████████████████████████████████| 175 kB 4.2 MB/s \n",
            "\u001b[?25hCollecting rapidfuzz<3.0.0,>=2.3.0\n",
            "  Downloading rapidfuzz-2.13.2-cp37-cp37m-manylinux_2_17_x86_64.manylinux2014_x86_64.whl (2.2 MB)\n",
            "\u001b[K     |████████████████████████████████| 2.2 MB 39.5 MB/s \n",
            "\u001b[?25hInstalling collected packages: rapidfuzz, Levenshtein, python-levenshtein, fuzzywuzzy\n",
            "Successfully installed Levenshtein-0.20.8 fuzzywuzzy-0.18.0 python-levenshtein-0.20.8 rapidfuzz-2.13.2\n",
            "Looking in indexes: https://pypi.org/simple, https://us-python.pkg.dev/colab-wheels/public/simple/\n",
            "Requirement already satisfied: python-Levenshtein in /usr/local/lib/python3.7/dist-packages (0.20.8)\n",
            "Requirement already satisfied: Levenshtein==0.20.8 in /usr/local/lib/python3.7/dist-packages (from python-Levenshtein) (0.20.8)\n",
            "Requirement already satisfied: rapidfuzz<3.0.0,>=2.3.0 in /usr/local/lib/python3.7/dist-packages (from Levenshtein==0.20.8->python-Levenshtein) (2.13.2)\n"
          ]
        }
      ]
    },
    {
      "cell_type": "code",
      "execution_count": null,
      "metadata": {
        "id": "ga5gEyC8AmFu"
      },
      "outputs": [],
      "source": [
        "import pandas as pd\n",
        "# fuzz is used to compare TWO strings\n",
        "from fuzzywuzzy import fuzz\n",
        "\n",
        "# process is used to compare a string to MULTIPLE other strings\n",
        "from fuzzywuzzy import process"
      ]
    },
    {
      "cell_type": "code",
      "source": [
        "from google.colab import drive\n",
        "drive.mount('/content/drive')"
      ],
      "metadata": {
        "colab": {
          "base_uri": "https://localhost:8080/"
        },
        "id": "YOqWnaWcBonD",
        "outputId": "7557565d-ca5d-4a6e-cdd3-c115114033d9"
      },
      "execution_count": null,
      "outputs": [
        {
          "output_type": "stream",
          "name": "stdout",
          "text": [
            "Drive already mounted at /content/drive; to attempt to forcibly remount, call drive.mount(\"/content/drive\", force_remount=True).\n"
          ]
        }
      ]
    },
    {
      "cell_type": "code",
      "source": [
        "# Create pandas dataframe from transduction ngs reads data\n",
        "trans_reads_df = pd.read_csv(\"/content/drive/MyDrive/Dyno CB-NDT Challenge I/challenge data/part1_input/transduction_ngs_reads.txt\", header=None)\n",
        "# add column name\n",
        "trans_reads_df.columns = ['reads']"
      ],
      "metadata": {
        "id": "Hf5RDzFlBFpT"
      },
      "execution_count": null,
      "outputs": []
    },
    {
      "cell_type": "code",
      "source": [
        "# Create pandas dataframe from design info csv\n",
        "barcode_df = pd.read_csv('/content/drive/MyDrive/Dyno CB-NDT Challenge I/challenge data/part1_input/design_info.csv')"
      ],
      "metadata": {
        "id": "brEuj8gXC4rT"
      },
      "execution_count": null,
      "outputs": []
    },
    {
      "cell_type": "code",
      "source": [
        "len(barcode_df['barcode'].unique())"
      ],
      "metadata": {
        "colab": {
          "base_uri": "https://localhost:8080/"
        },
        "id": "5kuxE8Xc_dJI",
        "outputId": "583d6679-8e79-4b53-982e-68e41422b9aa"
      },
      "execution_count": null,
      "outputs": [
        {
          "output_type": "execute_result",
          "data": {
            "text/plain": [
              "3000"
            ]
          },
          "metadata": {},
          "execution_count": 7
        }
      ]
    },
    {
      "cell_type": "code",
      "source": [
        "#check if flanking sections are all the same throught the dataset\n",
        "fl_region_1_subset = trans_reads_df[True == trans_reads_df['reads'].str.contains('GATAACCGT')]\n",
        "len(fl_region_1_subset)\n",
        "# this shows us that all flanking regions are mostly the same except for mutations.\n",
        "# determine unique reads count.\n",
        "# this is an approximation since we have to account for mutations\n",
        "len(trans_reads_df['reads'].unique())\n",
        "result = trans_reads_df['reads'].apply(len).mean()\n",
        "result"
      ],
      "metadata": {
        "id": "Wubm0bVRgFSN",
        "colab": {
          "base_uri": "https://localhost:8080/"
        },
        "outputId": "3d79c7c1-555c-4a84-f369-5fa353534809"
      },
      "execution_count": null,
      "outputs": [
        {
          "output_type": "execute_result",
          "data": {
            "text/plain": [
              "47.9999"
            ]
          },
          "metadata": {},
          "execution_count": 8
        }
      ]
    },
    {
      "cell_type": "code",
      "source": [
        "def flatten2list(object):\n",
        "    gather = []\n",
        "    for item in object:\n",
        "        if isinstance(item, (list, tuple, set)):\n",
        "            gather.extend(flatten2list(item))            \n",
        "        else:\n",
        "            gather.append(item)\n",
        "    return gather"
      ],
      "metadata": {
        "id": "gV8_Nyf3hLgN"
      },
      "execution_count": null,
      "outputs": []
    },
    {
      "cell_type": "code",
      "source": [
        "# threshold: 0.904 = 1-((3x0.002) * 16)\n",
        "threshold = 90\n",
        "read = \"GATAACCGTCAACCGCCTAGAAGGGCGAGTATACGCGTTGGAACCCAT\"\n",
        "read_list = process.extractBests(read,trans_reads_df['reads'],limit=100, score_cutoff=threshold)\n",
        "read_2 = 'GATAACCGTCTTGAATAGGCGGCAACGAGTATACACGGTGGAACCCAT'\n",
        "read_list2 =  process.extractBests(read_2,trans_reads_df['reads'],limit=100, score_cutoff=threshold)"
      ],
      "metadata": {
        "id": "zX9DXecFkpXP"
      },
      "execution_count": null,
      "outputs": []
    },
    {
      "cell_type": "code",
      "source": [
        "flat_list = flatten2list(read_list2)\n",
        "flat_list.append(read_list)\n",
        "flatten2list(flat_list)\n"
      ],
      "metadata": {
        "id": "GonsDp0VoxWC"
      },
      "execution_count": null,
      "outputs": []
    },
    {
      "cell_type": "code",
      "source": [
        "# threshold: 99.096 = 100-((3x0.002) * 16)\n",
        "#this doesn't work well. It can take up to 20 minutes to run.\n",
        "threshold = 98\n",
        "nested_read_list = []\n",
        "flat_list = []\n",
        "for read in trans_reads_df['reads']:\n",
        "  if (read in flat_list):\n",
        "    continue\n",
        "  read_list = process.extractBests(read,trans_reads_df['reads'],limit=100, score_cutoff=threshold)\n",
        "  nested_read_list.append(read_list)\n",
        "  flat_list.append(read_list)\n",
        "  flat_list = flatten2list(flat_list)"
      ],
      "metadata": {
        "id": "xEqeX9yPhLZi"
      },
      "execution_count": null,
      "outputs": []
    },
    {
      "cell_type": "code",
      "source": [
        "print(len(nested_read_list))\n",
        "print(len(flat_list))"
      ],
      "metadata": {
        "id": "5fUW0l6GhLia"
      },
      "execution_count": null,
      "outputs": []
    },
    {
      "cell_type": "code",
      "source": [
        "nested_read_list[0:5]"
      ],
      "metadata": {
        "colab": {
          "base_uri": "https://localhost:8080/"
        },
        "id": "Xv05s7g8LJLG",
        "outputId": "f76248dc-360c-44e2-81bc-567cfbf83722"
      },
      "execution_count": null,
      "outputs": [
        {
          "output_type": "execute_result",
          "data": {
            "text/plain": [
              "[[('GATAACCGTCTAATCTTAGACAGCGCGAGTATACGTGTTGGAACCCAT', 100, 0),\n",
              "  ('GATAACCGTCTAATCTTAGACAGCGCGAGTATACGGTTTGGAACCCAT', 98, 324),\n",
              "  ('GATAACCGTCTAATCTTAGACAGCGCGAGTATACCGTGTGGAACCCAT', 98, 427),\n",
              "  ('GATAACCGTCTAATCTTAGACAGCGCGAGTATACGATGTGGAACCCAT', 98, 522),\n",
              "  ('GATAACCGTCTAATCTTAGACAGCGCGAGTATACAGTTTGGAACCCAT', 98, 2911),\n",
              "  ('GATAACCGTCTAATCTTAGACAGCGCGAGTATACGTTCTGGAACCCAT', 98, 4856),\n",
              "  ('GATAACCGTCTAATCTTAGACAGCGCGAGTATACTGATTGGAACCCAT', 98, 5066),\n",
              "  ('GATAACCGTCTAATCTTAGACAGCGCGAGTATACTTGTTGGAACCCAT', 98, 6747)],\n",
              " [('GATAACCGTCTTGAATAGGCGGCAACGAGTATACGCCTTGGAACCCAT', 100, 1)],\n",
              " [('GATAACCGTGCATTCATAAGCAGTTCGAGTATACTGGATGGAACCCAT', 100, 2),\n",
              "  ('GATAACCGTGCATTCATAAGCAGTTCGAGTATACATGATGGAACCCAT', 98, 2871)],\n",
              " [('GATAACCGTTCTTTTAAGCGTCCTTCGAGTATACGGGGTGGAACCCAT', 100, 3),\n",
              "  ('GATAACCGTTCTTTTAAGCGTCCTTCGAGTATACGGGGTGGAACCCAT', 100, 6948),\n",
              "  ('GATAACCGTTCTTTTAAGCGTCCTTCGAGTATACGGTGTGGAACCCAT', 98, 1213),\n",
              "  ('GATAACCGTTCTTTTAAGCGTCCTTCGAGTATACCGGGTGGAACCCAT', 98, 2545),\n",
              "  ('GATAACCGTTCTTTTAAGCGTCCTTCGAGTATACCGGGTGGAACCCAT', 98, 4516),\n",
              "  ('GATAACCGTTCTTTTAAGCGTCCTTCGAGTATACCGGGTGGAACCCAT', 98, 6215),\n",
              "  ('GATAACCGTTCTTTTAAGCGTCCTTCGAGTATACGGCGTGGAACCCAT', 98, 6825)],\n",
              " [('GATAACCGTCACGAGAGACTGGCGACGAGTATACAAAGTGGAACCCAT', 100, 4),\n",
              "  ('GATAACCGTCACGAGAGACTGGCGACGAGTATACAACGTGGAACCCAT', 98, 6952)]]"
            ]
          },
          "metadata": {},
          "execution_count": 57
        }
      ]
    },
    {
      "cell_type": "code",
      "source": [
        "# sort each group by barcode. there may be multiple groups with the same barcode. thats the umi difference "
      ],
      "metadata": {
        "id": "CGJiO8c1hLlH"
      },
      "execution_count": null,
      "outputs": []
    },
    {
      "cell_type": "code",
      "source": [
        "for group in nested_read_list:\n",
        "  flat_group = flatten2list(group)\n",
        "  is_integer = lambda s: s.isdigit() or (s[0] == '-' and s[1:].isdigit())\n",
        "  flat_group = filter(is_integer, flat_group)\n",
        "  barcode_df\n",
        "  # if barcode is in all values: \n",
        "    # new_barcode_df = pd.Dataframe(columns = ['barcode','umi','count'])\n",
        "    # "
      ],
      "metadata": {
        "id": "fGvCFBvFhLnz"
      },
      "execution_count": null,
      "outputs": []
    },
    {
      "cell_type": "code",
      "source": [],
      "metadata": {
        "id": "a8Ft3pDW-TCG"
      },
      "execution_count": null,
      "outputs": []
    },
    {
      "cell_type": "code",
      "source": [],
      "metadata": {
        "id": "yu8-ZN2i-TIq"
      },
      "execution_count": null,
      "outputs": []
    },
    {
      "cell_type": "code",
      "source": [],
      "metadata": {
        "id": "1OSl898nCjHJ"
      },
      "execution_count": null,
      "outputs": []
    },
    {
      "cell_type": "code",
      "source": [
        "# remove flanking regions based on character length\n",
        "# replace with white space\n",
        "#use process.extract to group all reads with the same umi. count and match with barcode\n",
        "# create a new dataframe with barcode, umi, count\n",
        "flanking_regions_len = [9,8,10]   # flanking region 2 is from 26-33 included TATA which is the linker to the umi\n",
        "#umi is 5 base pairs long: from 34-39"
      ],
      "metadata": {
        "id": "C6wX2DJnCjKW"
      },
      "execution_count": null,
      "outputs": []
    },
    {
      "cell_type": "code",
      "source": [],
      "metadata": {
        "id": "kcrMF3EUCjQu"
      },
      "execution_count": null,
      "outputs": []
    },
    {
      "cell_type": "code",
      "source": [
        "# option 2 \n",
        "# remove all flanking regions from all reads using process.extractBest???\n",
        "#use flanking regions as delimiters\n",
        "#split read: '[barcode],[umi]'\n",
        "# use process.extractBest to group all reads with same umi. or read[1] together. place in a list and count\n",
        "# add barcode, umi, and count to new dataframe "
      ],
      "metadata": {
        "id": "vH-yx0g_CjXF"
      },
      "execution_count": null,
      "outputs": []
    },
    {
      "cell_type": "code",
      "source": [
        "flanking_regions = ['GATAACCGT','CGAGTATA','TGGAACCCAT']\n",
        "for i in flanking_regions:\n",
        "  if flanking_regions.index == 0:\n",
        "    #process.extractBest should go here somewhere\n",
        "    trans_reads_df['modified_reads'] = trans_reads_df['reads']\n",
        "  trans_reads_df['modified_reads'] = trans_reads_df['modified_reads'].str.replace(i,\" \")"
      ],
      "metadata": {
        "id": "uSnnqc6YCjZw"
      },
      "execution_count": null,
      "outputs": []
    },
    {
      "cell_type": "code",
      "source": [
        "trans_reads_df.head()"
      ],
      "metadata": {
        "colab": {
          "base_uri": "https://localhost:8080/",
          "height": 206
        },
        "id": "9d7Yjs4a-TqS",
        "outputId": "86daa5ff-2938-4a95-f9d6-b8502ba619ac"
      },
      "execution_count": null,
      "outputs": [
        {
          "output_type": "execute_result",
          "data": {
            "text/plain": [
              "                                              reads            modified_reads\n",
              "0  GATAACCGTCTAATCTTAGACAGCGCGAGTATACGTGTTGGAACCCAT   CTAATCTTAGACAGCG CGTGT \n",
              "1  GATAACCGTCTTGAATAGGCGGCAACGAGTATACGCCTTGGAACCCAT   CTTGAATAGGCGGCAA CGCCT \n",
              "2  GATAACCGTGCATTCATAAGCAGTTCGAGTATACTGGATGGAACCCAT   GCATTCATAAGCAGTT CTGGA \n",
              "3  GATAACCGTTCTTTTAAGCGTCCTTCGAGTATACGGGGTGGAACCCAT   TCTTTTAAGCGTCCTT CGGGG \n",
              "4  GATAACCGTCACGAGAGACTGGCGACGAGTATACAAAGTGGAACCCAT   CACGAGAGACTGGCGA CAAAG "
            ],
            "text/html": [
              "\n",
              "  <div id=\"df-ebdfb5c4-69ab-4e97-9a32-d410366e3525\">\n",
              "    <div class=\"colab-df-container\">\n",
              "      <div>\n",
              "<style scoped>\n",
              "    .dataframe tbody tr th:only-of-type {\n",
              "        vertical-align: middle;\n",
              "    }\n",
              "\n",
              "    .dataframe tbody tr th {\n",
              "        vertical-align: top;\n",
              "    }\n",
              "\n",
              "    .dataframe thead th {\n",
              "        text-align: right;\n",
              "    }\n",
              "</style>\n",
              "<table border=\"1\" class=\"dataframe\">\n",
              "  <thead>\n",
              "    <tr style=\"text-align: right;\">\n",
              "      <th></th>\n",
              "      <th>reads</th>\n",
              "      <th>modified_reads</th>\n",
              "    </tr>\n",
              "  </thead>\n",
              "  <tbody>\n",
              "    <tr>\n",
              "      <th>0</th>\n",
              "      <td>GATAACCGTCTAATCTTAGACAGCGCGAGTATACGTGTTGGAACCCAT</td>\n",
              "      <td>CTAATCTTAGACAGCG CGTGT</td>\n",
              "    </tr>\n",
              "    <tr>\n",
              "      <th>1</th>\n",
              "      <td>GATAACCGTCTTGAATAGGCGGCAACGAGTATACGCCTTGGAACCCAT</td>\n",
              "      <td>CTTGAATAGGCGGCAA CGCCT</td>\n",
              "    </tr>\n",
              "    <tr>\n",
              "      <th>2</th>\n",
              "      <td>GATAACCGTGCATTCATAAGCAGTTCGAGTATACTGGATGGAACCCAT</td>\n",
              "      <td>GCATTCATAAGCAGTT CTGGA</td>\n",
              "    </tr>\n",
              "    <tr>\n",
              "      <th>3</th>\n",
              "      <td>GATAACCGTTCTTTTAAGCGTCCTTCGAGTATACGGGGTGGAACCCAT</td>\n",
              "      <td>TCTTTTAAGCGTCCTT CGGGG</td>\n",
              "    </tr>\n",
              "    <tr>\n",
              "      <th>4</th>\n",
              "      <td>GATAACCGTCACGAGAGACTGGCGACGAGTATACAAAGTGGAACCCAT</td>\n",
              "      <td>CACGAGAGACTGGCGA CAAAG</td>\n",
              "    </tr>\n",
              "  </tbody>\n",
              "</table>\n",
              "</div>\n",
              "      <button class=\"colab-df-convert\" onclick=\"convertToInteractive('df-ebdfb5c4-69ab-4e97-9a32-d410366e3525')\"\n",
              "              title=\"Convert this dataframe to an interactive table.\"\n",
              "              style=\"display:none;\">\n",
              "        \n",
              "  <svg xmlns=\"http://www.w3.org/2000/svg\" height=\"24px\"viewBox=\"0 0 24 24\"\n",
              "       width=\"24px\">\n",
              "    <path d=\"M0 0h24v24H0V0z\" fill=\"none\"/>\n",
              "    <path d=\"M18.56 5.44l.94 2.06.94-2.06 2.06-.94-2.06-.94-.94-2.06-.94 2.06-2.06.94zm-11 1L8.5 8.5l.94-2.06 2.06-.94-2.06-.94L8.5 2.5l-.94 2.06-2.06.94zm10 10l.94 2.06.94-2.06 2.06-.94-2.06-.94-.94-2.06-.94 2.06-2.06.94z\"/><path d=\"M17.41 7.96l-1.37-1.37c-.4-.4-.92-.59-1.43-.59-.52 0-1.04.2-1.43.59L10.3 9.45l-7.72 7.72c-.78.78-.78 2.05 0 2.83L4 21.41c.39.39.9.59 1.41.59.51 0 1.02-.2 1.41-.59l7.78-7.78 2.81-2.81c.8-.78.8-2.07 0-2.86zM5.41 20L4 18.59l7.72-7.72 1.47 1.35L5.41 20z\"/>\n",
              "  </svg>\n",
              "      </button>\n",
              "      \n",
              "  <style>\n",
              "    .colab-df-container {\n",
              "      display:flex;\n",
              "      flex-wrap:wrap;\n",
              "      gap: 12px;\n",
              "    }\n",
              "\n",
              "    .colab-df-convert {\n",
              "      background-color: #E8F0FE;\n",
              "      border: none;\n",
              "      border-radius: 50%;\n",
              "      cursor: pointer;\n",
              "      display: none;\n",
              "      fill: #1967D2;\n",
              "      height: 32px;\n",
              "      padding: 0 0 0 0;\n",
              "      width: 32px;\n",
              "    }\n",
              "\n",
              "    .colab-df-convert:hover {\n",
              "      background-color: #E2EBFA;\n",
              "      box-shadow: 0px 1px 2px rgba(60, 64, 67, 0.3), 0px 1px 3px 1px rgba(60, 64, 67, 0.15);\n",
              "      fill: #174EA6;\n",
              "    }\n",
              "\n",
              "    [theme=dark] .colab-df-convert {\n",
              "      background-color: #3B4455;\n",
              "      fill: #D2E3FC;\n",
              "    }\n",
              "\n",
              "    [theme=dark] .colab-df-convert:hover {\n",
              "      background-color: #434B5C;\n",
              "      box-shadow: 0px 1px 3px 1px rgba(0, 0, 0, 0.15);\n",
              "      filter: drop-shadow(0px 1px 2px rgba(0, 0, 0, 0.3));\n",
              "      fill: #FFFFFF;\n",
              "    }\n",
              "  </style>\n",
              "\n",
              "      <script>\n",
              "        const buttonEl =\n",
              "          document.querySelector('#df-ebdfb5c4-69ab-4e97-9a32-d410366e3525 button.colab-df-convert');\n",
              "        buttonEl.style.display =\n",
              "          google.colab.kernel.accessAllowed ? 'block' : 'none';\n",
              "\n",
              "        async function convertToInteractive(key) {\n",
              "          const element = document.querySelector('#df-ebdfb5c4-69ab-4e97-9a32-d410366e3525');\n",
              "          const dataTable =\n",
              "            await google.colab.kernel.invokeFunction('convertToInteractive',\n",
              "                                                     [key], {});\n",
              "          if (!dataTable) return;\n",
              "\n",
              "          const docLinkHtml = 'Like what you see? Visit the ' +\n",
              "            '<a target=\"_blank\" href=https://colab.research.google.com/notebooks/data_table.ipynb>data table notebook</a>'\n",
              "            + ' to learn more about interactive tables.';\n",
              "          element.innerHTML = '';\n",
              "          dataTable['output_type'] = 'display_data';\n",
              "          await google.colab.output.renderOutput(dataTable, element);\n",
              "          const docLink = document.createElement('div');\n",
              "          docLink.innerHTML = docLinkHtml;\n",
              "          element.appendChild(docLink);\n",
              "        }\n",
              "      </script>\n",
              "    </div>\n",
              "  </div>\n",
              "  "
            ]
          },
          "metadata": {},
          "execution_count": 95
        }
      ]
    },
    {
      "cell_type": "code",
      "source": [
        "barcode_umi_df =  trans_reads_df['modified_reads'].str.split(\" \", expand = True)\n",
        "barcode_umi_df.head()"
      ],
      "metadata": {
        "id": "vGK6yHEyghrp"
      },
      "execution_count": null,
      "outputs": []
    },
    {
      "cell_type": "code",
      "source": [
        "barcode_umi_df = barcode_umi_df.drop(columns=[0,3])"
      ],
      "metadata": {
        "id": "T6Y4Y00cCjTe"
      },
      "execution_count": null,
      "outputs": []
    },
    {
      "cell_type": "code",
      "source": [
        "# groupby umi and count... some how add in process.exctractbest to groupby umi step"
      ],
      "metadata": {
        "id": "lVfyHQ0UivCq"
      },
      "execution_count": null,
      "outputs": []
    },
    {
      "cell_type": "code",
      "source": [],
      "metadata": {
        "id": "GKpZhbGPivNS"
      },
      "execution_count": null,
      "outputs": []
    },
    {
      "cell_type": "code",
      "source": [],
      "metadata": {
        "id": "OrvfR-vsivQd"
      },
      "execution_count": null,
      "outputs": []
    },
    {
      "cell_type": "code",
      "source": [],
      "metadata": {
        "id": "Nf7syKcGivTn"
      },
      "execution_count": null,
      "outputs": []
    },
    {
      "cell_type": "code",
      "source": [],
      "metadata": {
        "id": "h0BlF7KtivXU"
      },
      "execution_count": null,
      "outputs": []
    },
    {
      "cell_type": "code",
      "source": [],
      "metadata": {
        "id": "2ZazPH-civa9"
      },
      "execution_count": null,
      "outputs": []
    },
    {
      "cell_type": "code",
      "source": [],
      "metadata": {
        "id": "NY0r-Wzrive7"
      },
      "execution_count": null,
      "outputs": []
    },
    {
      "cell_type": "markdown",
      "source": [
        "\n",
        "\n",
        "*   in trans_reads_df remove flanking regions and replace with spaces. split and create a list of barcode and umi. place each item in the list in new columns: barcode, umi. \n",
        "*   from barcode column compare with barcode_df and find approximate matches using *get_close_matches()*\n",
        "*   \n",
        "*   List item\n",
        "\n",
        "\n",
        "\n"
      ],
      "metadata": {
        "id": "0Q7SIfCc3UcG"
      }
    },
    {
      "cell_type": "markdown",
      "source": [
        "find the approximate matches of the reads...not the barcode. then groupby and count. \n",
        "\n",
        "afterwards then i can remove barcode and flanking regions to get the umi"
      ],
      "metadata": {
        "id": "iC0VmTQ0KEs3"
      }
    },
    {
      "cell_type": "markdown",
      "source": [
        "Part 2 \n",
        "the number of RNA molecules is\n",
        "proportional to the number of unique UMIs"
      ],
      "metadata": {
        "id": "t7i4686YXpTq"
      }
    },
    {
      "cell_type": "code",
      "source": [
        "desgin_info_df = pd.read_csv('/content/drive/MyDrive/Dyno CB-NDT Challenge I/challenge data/part2_input/design_info.csv')\n",
        "transd_read_counts_1 = pd.read_csv('/content/drive/MyDrive/Dyno CB-NDT Challenge I/challenge data/part2_input/transduction_read_counts_1.csv')\n",
        "transd_read_counts_2 = pd.read_csv('/content/drive/MyDrive/Dyno CB-NDT Challenge I/challenge data/part2_input/transduction_read_counts_2.csv')\n",
        "transd_read_counts_3 = pd.read_csv('/content/drive/MyDrive/Dyno CB-NDT Challenge I/challenge data/part2_input/transduction_read_counts_3.csv')\n",
        "viral_read_counts = pd.read_csv('/content/drive/MyDrive/Dyno CB-NDT Challenge I/challenge data/part2_input/virus_read_counts.csv')"
      ],
      "metadata": {
        "id": "7Q-j2RaW2jc0"
      },
      "execution_count": null,
      "outputs": []
    },
    {
      "cell_type": "code",
      "source": [
        "transd_read_counts_1.head()"
      ],
      "metadata": {
        "colab": {
          "base_uri": "https://localhost:8080/",
          "height": 206
        },
        "id": "i4VWTgqM3cp9",
        "outputId": "76e08cb1-d995-43cf-a323-4b15a955e310"
      },
      "execution_count": null,
      "outputs": [
        {
          "output_type": "execute_result",
          "data": {
            "text/plain": [
              "            barcode   umi  count\n",
              "0  AAAACTTGATAGATAG  AAAC     33\n",
              "1  AAAACTTGATAGATAG  AAAG     31\n",
              "2  AAAACTTGATAGATAG  AAAT     24\n",
              "3  AAAACTTGATAGATAG  AACC     50\n",
              "4  AAAACTTGATAGATAG  AACG     20"
            ],
            "text/html": [
              "\n",
              "  <div id=\"df-cb20d937-e754-4aa1-8360-63e2c7f47205\">\n",
              "    <div class=\"colab-df-container\">\n",
              "      <div>\n",
              "<style scoped>\n",
              "    .dataframe tbody tr th:only-of-type {\n",
              "        vertical-align: middle;\n",
              "    }\n",
              "\n",
              "    .dataframe tbody tr th {\n",
              "        vertical-align: top;\n",
              "    }\n",
              "\n",
              "    .dataframe thead th {\n",
              "        text-align: right;\n",
              "    }\n",
              "</style>\n",
              "<table border=\"1\" class=\"dataframe\">\n",
              "  <thead>\n",
              "    <tr style=\"text-align: right;\">\n",
              "      <th></th>\n",
              "      <th>barcode</th>\n",
              "      <th>umi</th>\n",
              "      <th>count</th>\n",
              "    </tr>\n",
              "  </thead>\n",
              "  <tbody>\n",
              "    <tr>\n",
              "      <th>0</th>\n",
              "      <td>AAAACTTGATAGATAG</td>\n",
              "      <td>AAAC</td>\n",
              "      <td>33</td>\n",
              "    </tr>\n",
              "    <tr>\n",
              "      <th>1</th>\n",
              "      <td>AAAACTTGATAGATAG</td>\n",
              "      <td>AAAG</td>\n",
              "      <td>31</td>\n",
              "    </tr>\n",
              "    <tr>\n",
              "      <th>2</th>\n",
              "      <td>AAAACTTGATAGATAG</td>\n",
              "      <td>AAAT</td>\n",
              "      <td>24</td>\n",
              "    </tr>\n",
              "    <tr>\n",
              "      <th>3</th>\n",
              "      <td>AAAACTTGATAGATAG</td>\n",
              "      <td>AACC</td>\n",
              "      <td>50</td>\n",
              "    </tr>\n",
              "    <tr>\n",
              "      <th>4</th>\n",
              "      <td>AAAACTTGATAGATAG</td>\n",
              "      <td>AACG</td>\n",
              "      <td>20</td>\n",
              "    </tr>\n",
              "  </tbody>\n",
              "</table>\n",
              "</div>\n",
              "      <button class=\"colab-df-convert\" onclick=\"convertToInteractive('df-cb20d937-e754-4aa1-8360-63e2c7f47205')\"\n",
              "              title=\"Convert this dataframe to an interactive table.\"\n",
              "              style=\"display:none;\">\n",
              "        \n",
              "  <svg xmlns=\"http://www.w3.org/2000/svg\" height=\"24px\"viewBox=\"0 0 24 24\"\n",
              "       width=\"24px\">\n",
              "    <path d=\"M0 0h24v24H0V0z\" fill=\"none\"/>\n",
              "    <path d=\"M18.56 5.44l.94 2.06.94-2.06 2.06-.94-2.06-.94-.94-2.06-.94 2.06-2.06.94zm-11 1L8.5 8.5l.94-2.06 2.06-.94-2.06-.94L8.5 2.5l-.94 2.06-2.06.94zm10 10l.94 2.06.94-2.06 2.06-.94-2.06-.94-.94-2.06-.94 2.06-2.06.94z\"/><path d=\"M17.41 7.96l-1.37-1.37c-.4-.4-.92-.59-1.43-.59-.52 0-1.04.2-1.43.59L10.3 9.45l-7.72 7.72c-.78.78-.78 2.05 0 2.83L4 21.41c.39.39.9.59 1.41.59.51 0 1.02-.2 1.41-.59l7.78-7.78 2.81-2.81c.8-.78.8-2.07 0-2.86zM5.41 20L4 18.59l7.72-7.72 1.47 1.35L5.41 20z\"/>\n",
              "  </svg>\n",
              "      </button>\n",
              "      \n",
              "  <style>\n",
              "    .colab-df-container {\n",
              "      display:flex;\n",
              "      flex-wrap:wrap;\n",
              "      gap: 12px;\n",
              "    }\n",
              "\n",
              "    .colab-df-convert {\n",
              "      background-color: #E8F0FE;\n",
              "      border: none;\n",
              "      border-radius: 50%;\n",
              "      cursor: pointer;\n",
              "      display: none;\n",
              "      fill: #1967D2;\n",
              "      height: 32px;\n",
              "      padding: 0 0 0 0;\n",
              "      width: 32px;\n",
              "    }\n",
              "\n",
              "    .colab-df-convert:hover {\n",
              "      background-color: #E2EBFA;\n",
              "      box-shadow: 0px 1px 2px rgba(60, 64, 67, 0.3), 0px 1px 3px 1px rgba(60, 64, 67, 0.15);\n",
              "      fill: #174EA6;\n",
              "    }\n",
              "\n",
              "    [theme=dark] .colab-df-convert {\n",
              "      background-color: #3B4455;\n",
              "      fill: #D2E3FC;\n",
              "    }\n",
              "\n",
              "    [theme=dark] .colab-df-convert:hover {\n",
              "      background-color: #434B5C;\n",
              "      box-shadow: 0px 1px 3px 1px rgba(0, 0, 0, 0.15);\n",
              "      filter: drop-shadow(0px 1px 2px rgba(0, 0, 0, 0.3));\n",
              "      fill: #FFFFFF;\n",
              "    }\n",
              "  </style>\n",
              "\n",
              "      <script>\n",
              "        const buttonEl =\n",
              "          document.querySelector('#df-cb20d937-e754-4aa1-8360-63e2c7f47205 button.colab-df-convert');\n",
              "        buttonEl.style.display =\n",
              "          google.colab.kernel.accessAllowed ? 'block' : 'none';\n",
              "\n",
              "        async function convertToInteractive(key) {\n",
              "          const element = document.querySelector('#df-cb20d937-e754-4aa1-8360-63e2c7f47205');\n",
              "          const dataTable =\n",
              "            await google.colab.kernel.invokeFunction('convertToInteractive',\n",
              "                                                     [key], {});\n",
              "          if (!dataTable) return;\n",
              "\n",
              "          const docLinkHtml = 'Like what you see? Visit the ' +\n",
              "            '<a target=\"_blank\" href=https://colab.research.google.com/notebooks/data_table.ipynb>data table notebook</a>'\n",
              "            + ' to learn more about interactive tables.';\n",
              "          element.innerHTML = '';\n",
              "          dataTable['output_type'] = 'display_data';\n",
              "          await google.colab.output.renderOutput(dataTable, element);\n",
              "          const docLink = document.createElement('div');\n",
              "          docLink.innerHTML = docLinkHtml;\n",
              "          element.appendChild(docLink);\n",
              "        }\n",
              "      </script>\n",
              "    </div>\n",
              "  </div>\n",
              "  "
            ]
          },
          "metadata": {},
          "execution_count": 9
        }
      ]
    },
    {
      "cell_type": "markdown",
      "source": [
        "Comparing experimental replicates"
      ],
      "metadata": {
        "id": "jmokatGk8POv"
      }
    },
    {
      "cell_type": "code",
      "source": [
        "import seaborn as sns\n",
        "import matplotlib.pyplot as plt\n",
        "sns.set(style= 'darkgrid')\n",
        "sns.scatterplot(data=transd_read_counts_1, x='barcode',y='count')\n",
        "plt.show()"
      ],
      "metadata": {
        "colab": {
          "base_uri": "https://localhost:8080/",
          "height": 285
        },
        "id": "cDROcLN37YrO",
        "outputId": "b0baf903-6536-4e04-8fb1-cb4103334c3e"
      },
      "execution_count": null,
      "outputs": [
        {
          "output_type": "display_data",
          "data": {
            "text/plain": [
              "<Figure size 432x288 with 1 Axes>"
            ],
            "image/png": "[encoded data removed]"
          },
          "metadata": {}
        }
      ]
    }
  ]
}